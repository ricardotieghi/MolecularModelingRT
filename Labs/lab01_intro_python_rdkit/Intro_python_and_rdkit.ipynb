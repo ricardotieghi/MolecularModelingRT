{
 "cells": [
  {
   "cell_type": "markdown",
   "id": "38098176",
   "metadata": {},
   "source": [
    "# Introduction to Python and RDkit\n",
    "\n",
    "**Topics:**\n",
    "\n",
    "* [Python](#python)\n",
    "* [RDKit](#rdkit)"
   ]
  },
  {
   "cell_type": "markdown",
   "id": "82168100",
   "metadata": {},
   "source": [
    "## Python\n"
   ]
  },
  {
   "cell_type": "markdown",
   "id": "f0531dd5",
   "metadata": {},
   "source": [
    "### Table of Contents\n",
    "1. [Introduction](#1-introduction)\n",
    "2. [Setting Up Python](#2-setting-up-python)\n",
    "3. [Basic Syntax](#3-basic-syntax)\n",
    "4. [Variables and Data Types](#4-variables-and-data-types)\n",
    "5. [Operators](#5-operators)\n",
    "6. [Conditional Statements](#6-conditional-statements)\n",
    "7. [Loops](#7-loops)\n",
    "8. [Functions](#8-functions)\n",
    "9. [String Manipulations](#9-string-manipulations)\n",
    "10. [Pandas](#10-pandas)\n",
    "11. [NumPy](#11-numpy)\n",
    "12. [Plotting](#12-plotting-with-matplotlib)\n",
    "13. [Practice Exercises](#13-practice-exercises)\n",
    "\n",
    "### 1. Introduction\n",
    "Welcome to the Elementary Introduction to Python! In this notebook, you will learn the basics of Python programming. Python is a powerful, easy-to-learn programming language that is widely used in various fields, including web development, data analysis, artificial intelligence, and more. By the end of this notebook, you will be familiar with Python syntax and able to write simple programs.\n",
    "\n",
    "### 2. Setting Up Python\n",
    "To write and run Python code, you need to have Python installed on your computer. My recommendation is to download [Visual Studio Code (VSCode)](https://code.visualstudio.com/), then you can download Python and Jupyter Notebook using extensions tab inside VSCode. You can also download and install Python from the official website: [python.org](https://www.python.org/). Alternatively, you can use an online Python interpreter like [Google Colab](https://colab.research.google.com/).\n",
    "\n",
    "### 3. Basic Syntax\n",
    "Python code is written in plain text and saved with a `.py` extension. Another way to write Python code is using Jupyter Notebooks saved with a `ipynb` extension, such as this file itself. Python uses indentation to define blocks of code. Let's look at a simple example:\n"
   ]
  },
  {
   "cell_type": "code",
   "execution_count": 30,
   "id": "c099c393",
   "metadata": {},
   "outputs": [
    {
     "name": "stdout",
     "output_type": "stream",
     "text": [
      "Hello, World!\n"
     ]
    }
   ],
   "source": [
    "# This is a comment\n",
    "print(\"Hello, World!\")\n"
   ]
  },
  {
   "cell_type": "markdown",
   "id": "8eff7a10",
   "metadata": {},
   "source": [
    "### 4. Variables and Data Types\n",
    "Variables are used to store data. Python has several data types, including integers, floats, strings, and booleans. Let's see some examples:\n"
   ]
  },
  {
   "cell_type": "code",
   "execution_count": 31,
   "id": "3c600f74",
   "metadata": {},
   "outputs": [
    {
     "name": "stdout",
     "output_type": "stream",
     "text": [
      "5 is of type int\n",
      "3.14 is of type float\n",
      "Alice is of type str\n",
      "True is of type bool\n"
     ]
    }
   ],
   "source": [
    "# Integer\n",
    "x = 5\n",
    "print(f'{x} is of type {type(x).__name__}')\n",
    "\n",
    "# Float\n",
    "y = 3.14\n",
    "print(f'{y} is of type {type(y).__name__}')\n",
    "\n",
    "# String\n",
    "name = \"Alice\"\n",
    "print(f'{name} is of type {type(name).__name__}')\n",
    "\n",
    "# Boolean\n",
    "is_student = True\n",
    "print(f'{is_student} is of type {type(is_student).__name__}')\n"
   ]
  },
  {
   "cell_type": "markdown",
   "id": "7c8b38f7",
   "metadata": {},
   "source": [
    "### 5. Operators\n",
    "Operators are used to perform operations on variables and values. Python supports arithmetic, comparison, logical, and assignment operators. Here are some examples:\n"
   ]
  },
  {
   "cell_type": "code",
   "execution_count": 32,
   "id": "a4a463c4",
   "metadata": {},
   "outputs": [
    {
     "name": "stdout",
     "output_type": "stream",
     "text": [
      "Arithmetic operators\n",
      "13\n",
      "7\n",
      "30\n",
      "3.3333333333333335\n",
      "1\n",
      "1000\n",
      "3\n",
      "\n",
      "Comparison operators\n",
      "False\n",
      "True\n",
      "True\n",
      "False\n",
      "True\n",
      "False\n",
      "\n",
      "Logical operators\n",
      "True\n",
      "True\n",
      "False\n"
     ]
    }
   ],
   "source": [
    "# Assign variables\n",
    "a = 10\n",
    "b = 3\n",
    "\n",
    "# Arithmetic operators\n",
    "print('Arithmetic operators')\n",
    "print(a + b)  # Addition\n",
    "print(a - b)  # Subtraction\n",
    "print(a * b)  # Multiplication\n",
    "print(a / b)  # Division\n",
    "print(a % b)  # Modulus\n",
    "print(a ** b) # Exponentiation\n",
    "print(a // b) # Floor division\n",
    "print()\n",
    "# Comparison operators\n",
    "print('Comparison operators')\n",
    "print(a == b)  # Equal to\n",
    "print(a != b)  # Not equal to\n",
    "print(a > b)   # Greater than\n",
    "print(a < b)   # Less than\n",
    "print(a >= b)  # Greater than or equal to\n",
    "print(a <= b)  # Less than or equal to\n",
    "print()\n",
    "# Logical operators\n",
    "print('Logical operators')\n",
    "print(a > 5 and b < 5)  # Logical AND\n",
    "print(a > 5 or b > 5)   # Logical OR\n",
    "print(not(a > 5))       # Logical NOT\n"
   ]
  },
  {
   "cell_type": "markdown",
   "id": "382649ba",
   "metadata": {},
   "source": [
    "### 6. Conditional Statements\n",
    "Conditional statements are used to perform different actions based on different conditions. The `if`, `elif`, and `else` statements are used for this purpose:\n"
   ]
  },
  {
   "cell_type": "code",
   "execution_count": 33,
   "id": "f63d6188",
   "metadata": {},
   "outputs": [
    {
     "name": "stdout",
     "output_type": "stream",
     "text": [
      "You are an adult.\n"
     ]
    }
   ],
   "source": [
    "age = 18\n",
    "if age >= 18:\n",
    "    print(\"You are an adult.\")\n",
    "elif age >= 13:\n",
    "    print(\"You are a teen.\")\n",
    "else:\n",
    "    print(\"You are a child.\")\n"
   ]
  },
  {
   "cell_type": "markdown",
   "id": "c5c328ca",
   "metadata": {},
   "source": [
    "### 7. Loops\n",
    "Loops are used to execute a block of code repeatedly. Python has two main types of loops: `for` and `while` loops. Here are examples of each:\n"
   ]
  },
  {
   "cell_type": "code",
   "execution_count": 34,
   "id": "ae098075",
   "metadata": {},
   "outputs": [
    {
     "name": "stdout",
     "output_type": "stream",
     "text": [
      "0\n",
      "1\n",
      "2\n",
      "3\n",
      "4\n",
      "10\n",
      "\n",
      "0\n",
      "1\n",
      "2\n",
      "3\n",
      "4\n"
     ]
    }
   ],
   "source": [
    "# For loop\n",
    "total_sum = 0\n",
    "for i in range(5):\n",
    "    print(i)\n",
    "    total_sum = total_sum + i\n",
    "print(total_sum)\n",
    "\n",
    "print()\n",
    "# While loop\n",
    "count = 0\n",
    "while count < 5:\n",
    "    print(count)\n",
    "    count += 1\n"
   ]
  },
  {
   "cell_type": "markdown",
   "id": "fdeb5d79",
   "metadata": {},
   "source": [
    "### 8. Functions\n",
    "Functions are blocks of code that perform a specific task. They help in organizing code and making it reusable. Here's how you define and call a function:\n"
   ]
  },
  {
   "cell_type": "code",
   "execution_count": 35,
   "id": "8522a874",
   "metadata": {},
   "outputs": [
    {
     "name": "stdout",
     "output_type": "stream",
     "text": [
      "49\n"
     ]
    }
   ],
   "source": [
    "def power(number, power=2):\n",
    "    res = number ** power\n",
    "    return res\n",
    "\n",
    "print(power(7))"
   ]
  },
  {
   "cell_type": "markdown",
   "id": "4142100b",
   "metadata": {},
   "source": [
    "### 9. String Manipulations\n",
    "Strings are a sequence of characters and are one of the most commonly used data types in Python. Python provides a variety of methods to manipulate strings. Here are some important string methods and examples of how to use them:\n"
   ]
  },
  {
   "cell_type": "code",
   "execution_count": 36,
   "id": "2d21740f",
   "metadata": {},
   "outputs": [
    {
     "name": "stdout",
     "output_type": "stream",
     "text": [
      "13\n",
      "H\n",
      "!\n",
      "Hello\n",
      "hello, world!\n",
      "HELLO, WORLD!\n",
      "Hello, world!\n",
      "Hello, World!\n",
      "Hello, World!  \n",
      "  Hello, World!\n",
      "7\n",
      "-1\n",
      "Hello, Python!\n",
      "['Hello', ' World!']\n",
      "Hello  World!\n",
      "True\n",
      "True\n",
      "3\n",
      "My name is Alice and I am 30 years old.\n",
      "My name is Alice and I am 30 years old.\n"
     ]
    }
   ],
   "source": [
    "# String Initialization\n",
    "text = \"Hello, World!\"\n",
    "\n",
    "# 1. Length of the String\n",
    "print(len(text))  # Output: 13\n",
    "\n",
    "# 2. String Indexing and Slicing\n",
    "print(text[0])    # Output: H\n",
    "print(text[-1])   # Output: !\n",
    "print(text[0:5])  # Output: Hello\n",
    "\n",
    "# 3. Changing Case\n",
    "print(text.lower())  # Output: hello, world!\n",
    "print(text.upper())  # Output: HELLO, WORLD!\n",
    "print(text.capitalize())  # Output: Hello, world!\n",
    "\n",
    "# 4. Stripping Whitespace\n",
    "text_with_whitespace = \"  Hello, World!  \"\n",
    "print(text_with_whitespace.strip())  # Output: Hello, World!\n",
    "print(text_with_whitespace.lstrip()) # Output: Hello, World!  \n",
    "print(text_with_whitespace.rstrip()) # Output:   Hello, World!\n",
    "\n",
    "# 5. Finding Substrings\n",
    "print(text.find(\"World\"))  # Output: 7\n",
    "print(text.find(\"Python\"))  # Output: -1 (not found)\n",
    "\n",
    "# 6. Replacing Substrings\n",
    "print(text.replace(\"World\", \"Python\"))  # Output: Hello, Python!\n",
    "\n",
    "# 7. Splitting and Joining Strings\n",
    "split_text = text.split(\",\")  # Output: ['Hello', ' World!']\n",
    "print(split_text)\n",
    "joined_text = \" \".join(split_text)  # Output: Hello  World!\n",
    "print(joined_text)\n",
    "\n",
    "# 8. Checking Start and End\n",
    "print(text.startswith(\"Hello\"))  # Output: True\n",
    "print(text.endswith(\"!\"))        # Output: True\n",
    "\n",
    "# 9. Count Substrings\n",
    "print(text.count(\"l\"))  # Output: 3\n",
    "\n",
    "# 10. String Formatting\n",
    "name = \"Alice\"\n",
    "age = 30\n",
    "print(f\"My name is {name} and I am {age} years old.\")  # Output: My name is Alice and I am 30 years old.\n",
    "print(\"My name is {} and I am {} years old.\".format(name, age))  # Output: My name is Alice and I am 30 years old.\n"
   ]
  },
  {
   "cell_type": "markdown",
   "id": "8317eae7",
   "metadata": {},
   "source": [
    "### 10. Pandas\n",
    "\n",
    "Pandas is a powerful data manipulation and analysis library for Python. It provides data structures like Series and DataFrame, which are very useful for handling and analyzing structured data.\n",
    "\n",
    "**Creating a DataFrame**\n",
    "\n",
    "A DataFrame is a two-dimensional, size-mutable, and potentially heterogeneous tabular data structure with labeled axes (rows and columns)."
   ]
  },
  {
   "cell_type": "code",
   "execution_count": 37,
   "id": "7ca9ea39",
   "metadata": {},
   "outputs": [
    {
     "name": "stdout",
     "output_type": "stream",
     "text": [
      "      Name  Age         City\n",
      "0    Alice   25     New York\n",
      "1      Bob   30  Los Angeles\n",
      "2  Charlie   35      Chicago\n"
     ]
    }
   ],
   "source": [
    "import pandas as pd\n",
    "\n",
    "# Creating a DataFrame from a dictionary\n",
    "data = {\n",
    "    'Name': ['Alice', 'Bob', 'Charlie'],\n",
    "    'Age': [25, 30, 35],\n",
    "    'City': ['New York', 'Los Angeles', 'Chicago']\n",
    "}\n",
    "\n",
    "df = pd.DataFrame(data)\n",
    "print(df)\n",
    "\n",
    "# save the data to csv file\n",
    "df.to_csv('../lab01_intro_python_rdkit/demo_pd_data.csv', index=False)"
   ]
  },
  {
   "cell_type": "markdown",
   "id": "050e206d",
   "metadata": {},
   "source": [
    "**Reading Data from a CSV File**\n",
    "\n",
    "Pandas can read data from various file formats, including CSV, Excel, SQL databases, and more. Here, we'll demonstrate how to read data from a CSV file."
   ]
  },
  {
   "cell_type": "code",
   "execution_count": 39,
   "id": "c0a576cd",
   "metadata": {},
   "outputs": [
    {
     "name": "stdout",
     "output_type": "stream",
     "text": [
      "      Name  Age         City\n",
      "0    Alice   25     New York\n",
      "1      Bob   30  Los Angeles\n",
      "2  Charlie   35      Chicago\n"
     ]
    }
   ],
   "source": [
    "# Reading data from a CSV file\n",
    "df = pd.read_csv('../lab01_intro_python_rdkit/demo_pd_data.csv')\n",
    "print(df)"
   ]
  },
  {
   "cell_type": "markdown",
   "id": "94e42634",
   "metadata": {},
   "source": [
    "**Basic Data Manipulations**\n",
    "\n",
    "Pandas provides numerous functions to manipulate data. Here are some basic operations:"
   ]
  },
  {
   "cell_type": "code",
   "execution_count": 40,
   "id": "b0927953",
   "metadata": {},
   "outputs": [
    {
     "name": "stdout",
     "output_type": "stream",
     "text": [
      "      Name  Age         City\n",
      "0    Alice   25     New York\n",
      "1      Bob   30  Los Angeles\n",
      "2  Charlie   35      Chicago\n",
      "        Age\n",
      "count   3.0\n",
      "mean   30.0\n",
      "std     5.0\n",
      "min    25.0\n",
      "25%    27.5\n",
      "50%    30.0\n",
      "75%    32.5\n",
      "max    35.0\n",
      "      Name  Age         City\n",
      "0    Alice   25     New York\n",
      "1      Bob   30  Los Angeles\n",
      "2  Charlie   35      Chicago\n",
      "      Name  Age         City  Age in 10 Years\n",
      "0    Alice   25     New York               35\n",
      "1      Bob   30  Los Angeles               40\n",
      "2  Charlie   35      Chicago               45\n",
      "City\n",
      "Chicago        35.0\n",
      "Los Angeles    30.0\n",
      "New York       25.0\n",
      "Name: Age, dtype: float64\n"
     ]
    }
   ],
   "source": [
    "# Display the first few rows of the DataFrame\n",
    "print(df.head())\n",
    "\n",
    "# Display summary statistics of the DataFrame\n",
    "print(df.describe())\n",
    "\n",
    "# Filter rows based on a condition\n",
    "adults = df[df['Age'] >= 18]\n",
    "print(adults)\n",
    "\n",
    "# Add a new column to the DataFrame\n",
    "df['Age in 10 Years'] = df['Age'] + 10\n",
    "print(df)\n",
    "\n",
    "# Group data by a column and calculate the mean\n",
    "mean_age_by_city = df.groupby('City')['Age'].mean()\n",
    "print(mean_age_by_city)\n"
   ]
  },
  {
   "cell_type": "markdown",
   "id": "44f053e6",
   "metadata": {},
   "source": [
    "### 11. NumPy\n",
    "NumPy is a fundamental package for scientific computing with Python. It provides support for arrays, mathematical functions, and much more.\n",
    "\n",
    "**Creating Arrays**\n",
    "\n",
    "NumPy arrays are similar to Python lists but provide many more functionalities and are more efficient for numerical operations."
   ]
  },
  {
   "cell_type": "code",
   "execution_count": 41,
   "id": "ab01175d",
   "metadata": {},
   "outputs": [
    {
     "name": "stdout",
     "output_type": "stream",
     "text": [
      "[1 2 3 4 5]\n",
      "[[1 2 3]\n",
      " [4 5 6]]\n",
      "[[0. 0. 0.]\n",
      " [0. 0. 0.]\n",
      " [0. 0. 0.]]\n",
      "[[1. 1. 1. 1.]\n",
      " [1. 1. 1. 1.]]\n",
      "[0 1 2 3 4 5 6 7 8 9]\n"
     ]
    }
   ],
   "source": [
    "import numpy as np\n",
    "\n",
    "# Creating a 1D array\n",
    "array_1d = np.array([1, 2, 3, 4, 5])\n",
    "print(array_1d)\n",
    "\n",
    "# Creating a 2D array\n",
    "array_2d = np.array([[1, 2, 3], [4, 5, 6]])\n",
    "print(array_2d)\n",
    "\n",
    "# Creating arrays with special values\n",
    "zeros_array = np.zeros((3, 3))\n",
    "print(zeros_array)\n",
    "\n",
    "ones_array = np.ones((2, 4))\n",
    "print(ones_array)\n",
    "\n",
    "# Creating an array with a range of values\n",
    "range_array = np.arange(10)\n",
    "print(range_array)\n"
   ]
  },
  {
   "cell_type": "markdown",
   "id": "36c662d3",
   "metadata": {},
   "source": [
    "**Basic Array Operations**\n",
    "\n",
    "NumPy provides many functions to perform operations on arrays."
   ]
  },
  {
   "cell_type": "code",
   "execution_count": 42,
   "id": "3644031b",
   "metadata": {},
   "outputs": [
    {
     "name": "stdout",
     "output_type": "stream",
     "text": [
      "[3 4 5 6 7]\n",
      "[ 3  6  9 12 15]\n",
      "[1.         1.41421356 1.73205081 2.         2.23606798]\n"
     ]
    }
   ],
   "source": [
    "# Element-wise addition\n",
    "array_sum = array_1d + 2\n",
    "print(array_sum)\n",
    "\n",
    "# Element-wise multiplication\n",
    "array_product = array_1d * 3\n",
    "print(array_product)\n",
    "\n",
    "# Element-wise square root\n",
    "array_sqrt = np.sqrt(array_1d)\n",
    "print(array_sqrt)\n"
   ]
  },
  {
   "cell_type": "markdown",
   "id": "e99eec8d",
   "metadata": {},
   "source": [
    "**Basic Array Manipulations**\n",
    "\n",
    "NumPy also provides functions to manipulate arrays, such as reshaping, slicing, and indexing."
   ]
  },
  {
   "cell_type": "code",
   "execution_count": 43,
   "id": "f3e8ace3",
   "metadata": {},
   "outputs": [
    {
     "name": "stdout",
     "output_type": "stream",
     "text": [
      "[[1 2]\n",
      " [3 4]\n",
      " [5 6]]\n",
      "[2 3 4]\n",
      "6\n"
     ]
    }
   ],
   "source": [
    "# Reshaping an array\n",
    "reshaped_array = array_2d.reshape((3, 2))\n",
    "print(reshaped_array)\n",
    "\n",
    "# Slicing an array\n",
    "sliced_array = array_1d[1:4]\n",
    "print(sliced_array)\n",
    "\n",
    "# Indexing an array\n",
    "indexed_value = array_2d[1, 2]\n",
    "print(indexed_value)\n"
   ]
  },
  {
   "cell_type": "markdown",
   "id": "ec9750d0",
   "metadata": {},
   "source": [
    "### 12. Plotting with Matplotlib\n",
    "\n",
    "Matplotlib is a comprehensive library for creating static, animated, and interactive visualizations in Python. It is particularly good for creating plots and charts.\n",
    "\n",
    "**Line Plot**\n",
    "\n",
    "A line plot is a simple way to visualize a sequence of data points connected by straight line segments."
   ]
  },
  {
   "cell_type": "code",
   "execution_count": 44,
   "id": "36be694a",
   "metadata": {},
   "outputs": [
    {
     "data": {
      "image/png": "[encoded data removed]",
      "text/plain": [
       "<Figure size 800x500 with 1 Axes>"
      ]
     },
     "metadata": {},
     "output_type": "display_data"
    }
   ],
   "source": [
    "import matplotlib.pyplot as plt\n",
    "\n",
    "# Data for plotting\n",
    "x = [1, 2, 3, 4, 5]\n",
    "y = [2, 3, 5, 7, 11]\n",
    "\n",
    "# Creating a line plot\n",
    "plt.figure(figsize=(8, 5))\n",
    "plt.plot(x, y, marker='o')\n",
    "plt.title('Line Plot')\n",
    "plt.xlabel('X-axis')\n",
    "plt.ylabel('Y-axis')\n",
    "plt.grid(True)\n",
    "plt.show()"
   ]
  },
  {
   "cell_type": "markdown",
   "id": "86457af4",
   "metadata": {},
   "source": [
    "**Bar Chart**\n",
    "\n",
    "A bar chart is used to represent data with rectangular bars."
   ]
  },
  {
   "cell_type": "code",
   "execution_count": 45,
   "id": "9ab773ae",
   "metadata": {},
   "outputs": [
    {
     "data": {
      "image/png": "[encoded data removed]",
      "text/plain": [
       "<Figure size 800x500 with 1 Axes>"
      ]
     },
     "metadata": {},
     "output_type": "display_data"
    }
   ],
   "source": [
    "# Data for plotting\n",
    "categories = ['A', 'B', 'C', 'D']\n",
    "values = [10, 20, 15, 25]\n",
    "\n",
    "# Creating a bar chart\n",
    "plt.figure(figsize=(8, 5))\n",
    "plt.bar(categories, values, color='skyblue')\n",
    "plt.title('Bar Chart')\n",
    "plt.xlabel('Categories')\n",
    "plt.ylabel('Values')\n",
    "plt.show()\n"
   ]
  },
  {
   "cell_type": "markdown",
   "id": "c1a4db9e",
   "metadata": {},
   "source": [
    "### 13. Practice Exercises\n",
    "Now it's time to practice what you've learned. Below are some exercises for you to try:\n",
    "\n",
    "1. Write a Python program to calculate the area of a rectangle.\n",
    "2. Write a Python program that takes a number as input and prints whether it is positive, negative, or zero.\n",
    "3. Write a Python program to find the sum of all numbers from 1 to 100.\n",
    "4. Write a Python program to calculate the factorial of a number.\n",
    "5. Write a Python program to check if a number is prime.\n",
    "6. Write a Python function that takes two numbers as input and returns their greatest common divisor (GCD).\n",
    "\n",
    "Here's an example of how to approach these exercises:\n"
   ]
  },
  {
   "cell_type": "code",
   "execution_count": 48,
   "id": "a963915c",
   "metadata": {},
   "outputs": [
    {
     "name": "stdout",
     "output_type": "stream",
     "text": [
      "The area of the rectangle is 15\n"
     ]
    }
   ],
   "source": [
    "# Exercise 1: Calculate the area of a rectangle for the given length and width\n",
    "length = 5\n",
    "width = 3\n",
    "area = length * width\n",
    " # TODO: Calculate the area of the rectangle\n",
    "print(f\"The area of the rectangle is {area}\")\n",
    "\n",
    "# check answer\n",
    "assert area == 15, f\"Wrong answer, {area} != 15\""
   ]
  },
  {
   "cell_type": "code",
   "execution_count": 49,
   "id": "5fe8d93c",
   "metadata": {},
   "outputs": [
    {
     "name": "stdout",
     "output_type": "stream",
     "text": [
      "The maximum number is 9\n"
     ]
    }
   ],
   "source": [
    "import numpy as np\n",
    "# Exercise 2: Find the maximum of three numbers\n",
    "numbers = np.random.randint(0, 10, 3)\n",
    "if numbers[0] > numbers[1]:\n",
    "    max_number = np.max(numbers) # TODO: Find the maximum number\n",
    "else:\n",
    "    max_number = np.max(numbers)\n",
    "print(f\"The maximum number is {max_number}\")\n",
    "\n",
    "# check answer\n",
    "assert max_number == np.max(numbers), f\"Wrong answer, {max_number} != {np.max(numbers)}\""
   ]
  },
  {
   "cell_type": "code",
   "execution_count": 51,
   "id": "3cdcdc12",
   "metadata": {},
   "outputs": [
    {
     "name": "stdout",
     "output_type": "stream",
     "text": [
      "The sum of numbers from 1 to 100 is 5050\n"
     ]
    }
   ],
   "source": [
    "# Exercise 3: Sum of numbers from 1 to 100\n",
    "total_sum = 0\n",
    "for i in range(101): # TODO: Loop through numbers from 1 to 100\n",
    "    total_sum = total_sum + i \n",
    "    # TODO: Calculate the sum of numbers\n",
    "print(f\"The sum of numbers from 1 to 100 is {total_sum}\")\n",
    "\n",
    "# check answer\n",
    "assert total_sum == sum(range(101)), f\"Wrong answer, {total_sum} != {sum(range(101))}\""
   ]
  },
  {
   "cell_type": "code",
   "execution_count": 74,
   "id": "116bbc3f",
   "metadata": {},
   "outputs": [
    {
     "data": {
      "text/plain": [
       "120"
      ]
     },
     "execution_count": 74,
     "metadata": {},
     "output_type": "execute_result"
    }
   ],
   "source": [
    "# Exercise 4: Write a function to calculate the factorial of a number\n",
    "def factorial(n):\n",
    "    if n == 0:\n",
    "        return 1\n",
    "    output = 1\n",
    "    for i in range(1, n+1): # TODO: Loop through numbers from 1 to n\n",
    "        output = output * i # TODO: Calculate the factorial of n\n",
    "    return output\n",
    "\n",
    "factorial(5)"
   ]
  },
  {
   "cell_type": "code",
   "execution_count": 57,
   "id": "c208e535",
   "metadata": {},
   "outputs": [],
   "source": [
    "# Exercise 5: Write a function that checks if a number is prime\n",
    "def is_prime(num):\n",
    "    '''\n",
    "    This function checks if a number is prime or not \n",
    "    and returns True if the number is prime, otherwise False.\n",
    "    '''\n",
    "    ... # some code here\n",
    "\n",
    "# check answer\n",
    "assert is_prime(7) == True, \"Wrong answer\"\n",
    "assert is_prime(10) == False, \"Wrong answer\"\n",
    "assert is_prime(1) == False, \"Wrong answer\"\n",
    "assert is_prime(2) == True, \"Wrong answer\""
   ]
  },
  {
   "cell_type": "code",
   "execution_count": null,
   "id": "2efe4648",
   "metadata": {},
   "outputs": [],
   "source": [
    "# Exercise 6: Find the GCD of two numbers\n",
    "def gcd(a, b):\n",
    "    '''\n",
    "    This function calculates the Greatest Common Divisor (GCD) of two numbers.\n",
    "    '''\n",
    "    ... # some code here\n",
    "\n",
    "\n",
    "# check answer\n",
    "assert gcd(12, 15) == 3, \"Wrong answer\"\n",
    "assert gcd(10, 20) == 10, \"Wrong answer\"\n",
    "assert gcd(7, 9) == 1, \"Wrong answer\"\n",
    "assert gcd(12, 12) == 12, \"Wrong answer\""
   ]
  },
  {
   "cell_type": "markdown",
   "id": "b619c70d",
   "metadata": {},
   "source": [
    "## RDkit"
   ]
  },
  {
   "cell_type": "markdown",
   "id": "6c61a4e4",
   "metadata": {},
   "source": [
    "### Table of Contents\n",
    "1. [Introduction](#1-intro)\n",
    "2. [Installation](#2-installation)\n",
    "3. [Basic Usage](#3-basic-usage)\n",
    "4. [Molecule Visualization](#4-molecule-visualization)\n",
    "5. [Molecular Descriptors](#5-molecular-descriptors)\n",
    "6. [File Reading and Writing](#6-file-reading-and-writing)\n",
    "7. [Practice Exercises](#7-practice-exercises)\n",
    "\n",
    "### 1. Intro\n",
    "RDKit is a collection of cheminformatics and machine learning tools. It is used for processing and analyzing chemical information. In this notebook, we will cover the basics of using RDKit, including molecule creation, visualization, calculating molecular descriptors, and substructure searching.\n",
    "\n",
    "### 2. Installation\n",
    "To use RDKit, you need to install it first. You can install RDKit using conda `conda install -c conda-forge rdkit` or pip `pip install rdkit`. "
   ]
  },
  {
   "cell_type": "markdown",
   "id": "ed906426",
   "metadata": {},
   "source": [
    "### 3. Basic Usage\n",
    "Let's start with some basic usage of RDKit. We'll learn how to create a molecule object from a SMILES string and get basic information about the molecule. Your best friend will be the [RDkit documentation](https://www.rdkit.org/docs/GettingStartedInPython.html) where you can find RDkit functions and their explanations."
   ]
  },
  {
   "cell_type": "code",
   "execution_count": null,
   "id": "f7684f89",
   "metadata": {},
   "outputs": [
    {
     "name": "stdout",
     "output_type": "stream",
     "text": [
      "<rdkit.Chem.rdchem.Mol object at 0x000001F605575A80>\n",
      "The molecule has 3 atoms.\n",
      "The molecule has 2 bonds.\n"
     ]
    }
   ],
   "source": [
    "from rdkit import Chem\n",
    "\n",
    "# Create a molecule from a SMILES string\n",
    "smiles = 'CCO'\n",
    "molecule = Chem.MolFromSmiles(smiles)\n",
    "\n",
    "# Print the molecule object\n",
    "print(molecule)\n",
    "\n",
    "# Get the number of atoms in the molecule\n",
    "num_atoms = molecule.GetNumAtoms()\n",
    "print(f'The molecule has {num_atoms} atoms.')\n",
    "\n",
    "# Get the number of bonds in the molecule\n",
    "num_bonds = molecule.GetNumBonds()\n",
    "print(f'The molecule has {num_bonds} bonds.')\n"
   ]
  },
  {
   "cell_type": "markdown",
   "id": "d57d5627",
   "metadata": {},
   "source": [
    "### 4. Molecule Visualization\n",
    "RDKit provides tools for visualizing molecules. We can use the rdkit.Chem.Draw module to display molecules."
   ]
  },
  {
   "cell_type": "code",
   "execution_count": null,
   "id": "c530b972",
   "metadata": {},
   "outputs": [
    {
     "data": {
      "image/png": "[encoded data removed]",
      "text/plain": [
       "<PIL.PngImagePlugin.PngImageFile image mode=RGB size=300x300>"
      ]
     },
     "execution_count": 9,
     "metadata": {},
     "output_type": "execute_result"
    }
   ],
   "source": [
    "from rdkit import Chem\n",
    "from rdkit.Chem import Draw\n",
    "\n",
    "molecule = Chem.MolFromSmiles('CC1([C@@H](N2[C@H](S1)[C@@H](C2=O)NC(=O)Cc3ccccc3)C(=O)O)C')\n",
    "\n",
    "# Draw the molecule\n",
    "Draw.MolToImage(molecule)"
   ]
  },
  {
   "cell_type": "markdown",
   "id": "586862c4",
   "metadata": {},
   "source": [
    "### 5. Molecular Descriptors\n",
    "Molecular descriptors are numerical values that describe the properties of molecules. RDKit provides functions to calculate various descriptors."
   ]
  },
  {
   "cell_type": "code",
   "execution_count": null,
   "id": "30b58687",
   "metadata": {},
   "outputs": [
    {
     "name": "stdout",
     "output_type": "stream",
     "text": [
      "Molecular Weight: 334.39700000000005\n",
      "Number of Hydrogen Bond Donors: 2\n",
      "Number of Hydrogen Bond Acceptors: 4\n"
     ]
    }
   ],
   "source": [
    "from rdkit.Chem import Descriptors\n",
    "\n",
    "# Calculate molecular weight\n",
    "mol_weight = Descriptors.MolWt(molecule)\n",
    "print(f'Molecular Weight: {mol_weight}')\n",
    "\n",
    "# Calculate the number of hydrogen bond donors\n",
    "num_h_donors = Descriptors.NumHDonors(molecule)\n",
    "print(f'Number of Hydrogen Bond Donors: {num_h_donors}')\n",
    "\n",
    "# Calculate the number of hydrogen bond acceptors\n",
    "num_h_acceptors = Descriptors.NumHAcceptors(molecule)\n",
    "print(f'Number of Hydrogen Bond Acceptors: {num_h_acceptors}')\n"
   ]
  },
  {
   "cell_type": "markdown",
   "id": "fd868152",
   "metadata": {},
   "source": [
    "### 6. File Reading and Writing\n",
    "RDKit allows you to read and write molecule files in various formats, such as SDF, MOL, and SMILES. This section will cover how to read and write these files using RDKit."
   ]
  },
  {
   "cell_type": "code",
   "execution_count": null,
   "id": "095d1047",
   "metadata": {},
   "outputs": [],
   "source": [
    "from rdkit import Chem\n",
    "\n",
    "# Reading a molecule from a SMILES string\n",
    "smiles = 'CCO'\n",
    "molecule = Chem.MolFromSmiles(smiles)\n",
    "\n",
    "# Writing the molecule to a file in SDF format\n",
    "with Chem.SDWriter('molecule.sdf') as writer:\n",
    "    writer.write(molecule)\n",
    "\n",
    "# Reading a molecule from an SDF file\n",
    "with Chem.SDMolSupplier('molecule.sdf') as supplier:\n",
    "    mol_from_file = next(supplier)\n",
    "\n",
    "# Confirming the molecule is read correctly\n",
    "print(Chem.MolToSmiles(mol_from_file))\n"
   ]
  },
  {
   "cell_type": "markdown",
   "id": "83ac78ad",
   "metadata": {},
   "source": [
    "### 7. Practice Exercises\n",
    "Here are some exercises to practice what you've learned:\n",
    "\n",
    "1. Create a molecule from the SMILES string 'CCO' and display it.\n",
    "2. Calculate and print the molecular weight, number of hydrogen bond donors, and number of hydrogen bond acceptors for the molecule 'CCO'.\n",
    "3. Create a molecule from the SMILES string 'CCC(=O)O' and check if it contains a carboxyl group ([C(=O)O]).\n",
    "\n",
    "\n",
    "Here's an example of how to approach these exercises:"
   ]
  },
  {
   "cell_type": "code",
   "execution_count": null,
   "id": "394be1b9",
   "metadata": {},
   "outputs": [
    {
     "data": {
      "image/png": "[encoded data removed]",
      "text/plain": [
       "<rdkit.Chem.rdchem.Mol at 0x1f6059cde70>"
      ]
     },
     "execution_count": 13,
     "metadata": {},
     "output_type": "execute_result"
    }
   ],
   "source": [
    "# Exercise 1: Find your favorite molecule in SMILES format\n",
    "smiles = 'C1CC(=O)NC(=O)C1N2C(=O)C3=CC=CC=C3C2=O'\n",
    "molecule = Chem.MolFromSmiles(smiles) # TODO: Create a molecule object from the SMILES string\n",
    "molecule # TODO: Display the molecule"
   ]
  },
  {
   "cell_type": "code",
   "execution_count": null,
   "id": "e36fd3c9",
   "metadata": {},
   "outputs": [
    {
     "name": "stdout",
     "output_type": "stream",
     "text": [
      "Molecular Weight: 258.233\n",
      "Number of Hydrogen Bond Donors: 1\n",
      "Number of Hydrogen Bond Acceptors: 4\n"
     ]
    }
   ],
   "source": [
    "# Exercise 2: Calculate molecular weight, number of hydrogen bond donors, and number of hydrogen bond acceptors\n",
    "mol_weight = Descriptors.MolWt(molecule)\n",
    "num_h_donors = Descriptors.NumHDonors(molecule)\n",
    "num_h_acceptors = Descriptors.NumHAcceptors(molecule)\n",
    "print(f'Molecular Weight: {mol_weight}')\n",
    "print(f'Number of Hydrogen Bond Donors: {num_h_donors}')\n",
    "print(f'Number of Hydrogen Bond Acceptors: {num_h_acceptors}')"
   ]
  },
  {
   "cell_type": "code",
   "execution_count": null,
   "id": "5b8c7d3d",
   "metadata": {},
   "outputs": [
    {
     "name": "stdout",
     "output_type": "stream",
     "text": [
      "O=C1CCC(N2C(=O)c3ccccc3C2=O)C(=O)N1\n"
     ]
    }
   ],
   "source": [
    "# Exercise 3: Save the molecule to an SDF file, then read it back.\n",
    "filename = 'molecule.sdf'\n",
    " # Writing the molecule to a file in SDF format\n",
    "with Chem.SDWriter('molecule.sdf') as writer:\n",
    "    writer.write(molecule)\n",
    "     # TODO: Write the molecule to an SDF file\n",
    "\n",
    "# Reading a molecule from an SDF file\n",
    "with Chem.SDMolSupplier('molecule.sdf') as supplier:\n",
    "    mol_from_file = next(supplier)\n",
    "    # TODO: Read the molecule from the SDF file\n",
    "\n",
    "# Confirming the molecule is read correctly\n",
    "print(Chem.MolToSmiles(mol_from_file))\n",
    "\n",
    "assert Chem.MolToSmiles(molecule) == Chem.MolToSmiles(mol_from_file), \"Molecule is not read correctly\""
   ]
  },
  {
   "cell_type": "code",
   "execution_count": null,
   "id": "05d88232",
   "metadata": {},
   "outputs": [],
   "source": []
  },
  {
   "cell_type": "code",
   "execution_count": null,
   "id": "7d499e47",
   "metadata": {},
   "outputs": [],
   "source": []
  },
  {
   "cell_type": "code",
   "execution_count": null,
   "id": "c24352bf",
   "metadata": {},
   "outputs": [],
   "source": []
  }
 ],
 "metadata": {
  "kernelspec": {
   "display_name": "biopy",
   "language": "python",
   "name": "python3"
  },
  "language_info": {
   "codemirror_mode": {
    "name": "ipython",
    "version": 3
   },
   "file_extension": ".py",
   "mimetype": "text/x-python",
   "name": "python",
   "nbconvert_exporter": "python",
   "pygments_lexer": "ipython3",
   "version": "3.11.4"
  }
 },
 "nbformat": 4,
 "nbformat_minor": 5
}
